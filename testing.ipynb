{
 "cells": [
  {
   "cell_type": "code",
   "execution_count": 9,
   "id": "a453ad14",
   "metadata": {},
   "outputs": [],
   "source": [
    "import os\n",
    "import numpy as np\n",
    "import librosa\n",
    "import joblib\n",
    "import sounddevice as sd\n",
    "from sklearn.model_selection import train_test_split\n",
    "from sklearn.preprocessing import LabelEncoder, StandardScaler\n",
    "from sklearn.ensemble import ExtraTreesClassifier\n",
    "from sklearn.ensemble import RandomForestClassifier\n",
    "from sklearn.pipeline import Pipeline\n",
    "from sklearn.metrics import accuracy_score, confusion_matrix, ConfusionMatrixDisplay\n",
    "import matplotlib.pyplot as plt\n",
    "\n",
    "# -----------------------------\n",
    "# Parameters\n",
    "# -----------------------------\n",
    "DATASET_PATH = \"dataset_augmented\"\n",
    "SAMPLES_PER_FILE = 32000   # 2 sec @16kHz\n",
    "N_MFCC = 13\n",
    "MAX_LEN = 88\n",
    "\n",
    "# -----------------------------\n",
    "# Feature Extraction\n",
    "# -----------------------------\n",
    "def extract_features(file_path, n_mfcc=N_MFCC, max_len=MAX_LEN):\n",
    "    audio, sr = librosa.load(file_path, sr=16000)\n",
    "    audio, _ = librosa.effects.trim(audio, top_db=20)\n",
    "\n",
    "    if len(audio) > SAMPLES_PER_FILE:\n",
    "        audio = audio[:SAMPLES_PER_FILE]\n",
    "    elif len(audio) < SAMPLES_PER_FILE:\n",
    "        audio = np.pad(audio, (0, SAMPLES_PER_FILE - len(audio)), mode='constant')\n",
    "\n",
    "    mfcc = librosa.feature.mfcc(y=audio, sr=sr, n_mfcc=n_mfcc)\n",
    "\n",
    "    if mfcc.shape[1] < max_len:\n",
    "        pad_width = max_len - mfcc.shape[1]\n",
    "        mfcc = np.pad(mfcc, pad_width=((0,0),(0,pad_width)), mode='constant')\n",
    "    else:\n",
    "        mfcc = mfcc[:, :max_len]\n",
    "\n",
    "    return mfcc.flatten()\n",
    "\n",
    "# -----------------------------\n",
    "# Load Dataset\n",
    "# -----------------------------\n",
    "labels, features, paths = [], [], []\n",
    "\n",
    "for label in os.listdir(DATASET_PATH):\n",
    "    class_dir = os.path.join(DATASET_PATH, label)\n",
    "    if not os.path.isdir(class_dir):\n",
    "        continue\n",
    "    for file in os.listdir(class_dir):\n",
    "        if file.endswith(\".wav\"):\n",
    "            file_path = os.path.join(class_dir, file)\n",
    "            mfcc = extract_features(file_path)\n",
    "            features.append(mfcc)\n",
    "            labels.append(label)\n",
    "            paths.append(file_path)   # Keep original paths\n",
    "\n",
    "X = np.array(features)\n",
    "y = np.array(labels)\n",
    "X_paths = np.array(paths)\n",
    "\n",
    "# -----------------------------\n",
    "# Encode labels\n",
    "# -----------------------------\n",
    "encoder = LabelEncoder()\n",
    "y_encoded = encoder.fit_transform(y)\n",
    "\n",
    "# -----------------------------\n",
    "# Train-test split\n",
    "# -----------------------------\n",
    "X_train, X_test, y_train, y_test, X_train_paths, X_test_paths = train_test_split(\n",
    "    X, y_encoded, X_paths, test_size=0.2, random_state=42\n",
    ")"
   ]
  },
  {
   "cell_type": "code",
   "execution_count": 12,
   "id": "ca3c4137",
   "metadata": {},
   "outputs": [
    {
     "data": {
      "image/png": "[encoded data removed]",
      "text/plain": [
       "<Figure size 640x480 with 2 Axes>"
      ]
     },
     "metadata": {},
     "output_type": "display_data"
    },
    {
     "name": "stdout",
     "output_type": "stream",
     "text": [
      "✅ Accuracy: 0.99\n"
     ]
    }
   ],
   "source": [
    "# -----------------------------\n",
    "# Pipeline & Model\n",
    "# -----------------------------\n",
    "base_model = RandomForestClassifier(n_estimators=150,random_state=42)\n",
    "mypipeline = Pipeline([\n",
    "    (\"scaler\", StandardScaler()),\n",
    "    (\"classifier\", base_model)\n",
    "])\n",
    "\n",
    "mypipeline.fit(X_train, y_train)\n",
    "\n",
    "# -----------------------------\n",
    "# Evaluate\n",
    "# -----------------------------\n",
    "y_pred = mypipeline.predict(X_test)\n",
    "\n",
    "# Confusion matrix\n",
    "cm = confusion_matrix(y_test, y_pred)\n",
    "disp = ConfusionMatrixDisplay(confusion_matrix=cm, display_labels=encoder.classes_)\n",
    "disp.plot(cmap=plt.cm.Blues, values_format='d')\n",
    "plt.title(\"Confusion Matrix\")\n",
    "plt.show()\n",
    "\n",
    "# -----------------------------\n",
    "# Accuracy\n",
    "# -----------------------------\n",
    "acc = accuracy_score(y_test, y_pred)\n",
    "print(f\"✅ Accuracy: {acc:.2f}\")\n",
    "\n",
    "# -----------------------------\n",
    "# Save model + encoder\n",
    "# -----------------------------\n",
    "#joblib.dump(mypipeline, \"on_off_rf_model.pkl\")\n",
    "#joblib.dump(encoder, \"label_encoder.pkl\")\n",
    "#print(\"✅ Model and encoder saved.\")"
   ]
  },
  {
   "cell_type": "code",
   "execution_count": 13,
   "id": "d76a580f",
   "metadata": {},
   "outputs": [
    {
     "name": "stdout",
     "output_type": "stream",
     "text": [
      "Number of misclassified items: 3\n",
      "❌ True: on | Pred: unknown\n",
      "🎧 Playing audio...\n",
      "❌ True: on | Pred: unknown\n",
      "🎧 Playing audio...\n",
      "❌ True: unknown | Pred: off\n",
      "🎧 Playing audio...\n"
     ]
    }
   ],
   "source": [
    "# -----------------------------\n",
    "# Identify misclassified items\n",
    "# -----------------------------\n",
    "wrong_idx = np.where(y_test != y_pred)[0]\n",
    "print(f\"Number of misclassified items: {len(wrong_idx)}\")\n",
    "\n",
    "# -----------------------------\n",
    "# Listen to misclassified items\n",
    "# -----------------------------\n",
    "for idx in wrong_idx:\n",
    "    true_label = encoder.inverse_transform([y_test[idx]])[0]\n",
    "    pred_label = encoder.inverse_transform([y_pred[idx]])[0]\n",
    "    print(f\"❌ True: {true_label} | Pred: {pred_label}\")\n",
    "\n",
    "    audio_path = X_test_paths[idx]\n",
    "    y_audio, sr = librosa.load(audio_path, sr=16000)\n",
    "    print(\"🎧 Playing audio...\")\n",
    "    sd.play(y_audio, sr)\n",
    "    sd.wait()\n",
    "\n",
    "    input(\"Press Enter to play next misclassified clip...\")"
   ]
  },
  {
   "cell_type": "code",
   "execution_count": null,
   "id": "1e87e6e1",
   "metadata": {},
   "outputs": [],
   "source": []
  }
 ],
 "metadata": {
  "kernelspec": {
   "display_name": "Python 3",
   "language": "python",
   "name": "python3"
  },
  "language_info": {
   "codemirror_mode": {
    "name": "ipython",
    "version": 3
   },
   "file_extension": ".py",
   "mimetype": "text/x-python",
   "name": "python",
   "nbconvert_exporter": "python",
   "pygments_lexer": "ipython3",
   "version": "3.11.0"
  }
 },
 "nbformat": 4,
 "nbformat_minor": 5
}
